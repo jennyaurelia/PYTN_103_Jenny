{
 "cells": [
  {
   "cell_type": "markdown",
   "metadata": {},
   "source": [
    "Jenny Aurelia Tanaya - Assignment 2 (Sesi 10 - PYTN 103)"
   ]
  },
  {
   "cell_type": "markdown",
   "metadata": {},
   "source": [
    "### NYC Property Sales  \n",
    "\n",
    "Properties sold in New York City over a 12-month period from September 2016 to September 2017."
   ]
  },
  {
   "cell_type": "markdown",
   "metadata": {},
   "source": [
    "Objective:  \n",
    "Find:  \n",
    "1. Measure of Central Tendency:  \n",
    "* Mean   \n",
    "* Median  \n",
    "* Mode  \n",
    "\n",
    "2. Measure of Spread:\n",
    "* Range\n",
    "* Variance  \n",
    "* Standard Deviation  \n",
    "\n",
    "3. Probability Distribution  \n",
    "4. Confidence Intervals  \n",
    "5. Hypothesis Testing"
   ]
  },
  {
   "cell_type": "markdown",
   "metadata": {},
   "source": [
    "But first let's import the libraries needed and clean our data!"
   ]
  },
  {
   "cell_type": "code",
   "execution_count": 1,
   "metadata": {},
   "outputs": [
    {
     "name": "stderr",
     "output_type": "stream",
     "text": [
      "/var/folders/c3/_g425yfx56z0vhzwg8_2sqj40000gn/T/ipykernel_821/2372048524.py:9: DeprecationWarning: Importing display from IPython.core.display is deprecated since IPython 7.14, please import from IPython display\n",
      "  from IPython.core.display import display, HTML\n"
     ]
    }
   ],
   "source": [
    "# import libraries\n",
    "import numpy as np\n",
    "import pandas as pd\n",
    "from scipy import stats\n",
    "import matplotlib.pyplot as plt\n",
    "from IPython.core.display import display, HTML\n",
    "import warnings\n",
    "%matplotlib inline\n",
    "from IPython.display import Math, Latex\n",
    "from IPython.core.display import Image\n",
    "from scipy.stats import uniform\n",
    "from scipy.stats import kstest\n",
    "from scipy.stats import norm\n",
    "from scipy.stats import gamma"
   ]
  },
  {
   "cell_type": "markdown",
   "metadata": {},
   "source": [
    "To get started, let's import our dataset"
   ]
  },
  {
   "cell_type": "code",
   "execution_count": 2,
   "metadata": {},
   "outputs": [
    {
     "data": {
      "text/html": [
       "<div>\n",
       "<style scoped>\n",
       "    .dataframe tbody tr th:only-of-type {\n",
       "        vertical-align: middle;\n",
       "    }\n",
       "\n",
       "    .dataframe tbody tr th {\n",
       "        vertical-align: top;\n",
       "    }\n",
       "\n",
       "    .dataframe thead th {\n",
       "        text-align: right;\n",
       "    }\n",
       "</style>\n",
       "<table border=\"1\" class=\"dataframe\">\n",
       "  <thead>\n",
       "    <tr style=\"text-align: right;\">\n",
       "      <th></th>\n",
       "      <th>Unnamed: 0</th>\n",
       "      <th>BOROUGH</th>\n",
       "      <th>NEIGHBORHOOD</th>\n",
       "      <th>BUILDING CLASS CATEGORY</th>\n",
       "      <th>TAX CLASS AT PRESENT</th>\n",
       "      <th>BLOCK</th>\n",
       "      <th>LOT</th>\n",
       "      <th>EASE-MENT</th>\n",
       "      <th>BUILDING CLASS AT PRESENT</th>\n",
       "      <th>ADDRESS</th>\n",
       "      <th>...</th>\n",
       "      <th>RESIDENTIAL UNITS</th>\n",
       "      <th>COMMERCIAL UNITS</th>\n",
       "      <th>TOTAL UNITS</th>\n",
       "      <th>LAND SQUARE FEET</th>\n",
       "      <th>GROSS SQUARE FEET</th>\n",
       "      <th>YEAR BUILT</th>\n",
       "      <th>TAX CLASS AT TIME OF SALE</th>\n",
       "      <th>BUILDING CLASS AT TIME OF SALE</th>\n",
       "      <th>SALE PRICE</th>\n",
       "      <th>SALE DATE</th>\n",
       "    </tr>\n",
       "  </thead>\n",
       "  <tbody>\n",
       "    <tr>\n",
       "      <th>0</th>\n",
       "      <td>4</td>\n",
       "      <td>1</td>\n",
       "      <td>ALPHABET CITY</td>\n",
       "      <td>07 RENTALS - WALKUP APARTMENTS</td>\n",
       "      <td>2A</td>\n",
       "      <td>392</td>\n",
       "      <td>6</td>\n",
       "      <td></td>\n",
       "      <td>C2</td>\n",
       "      <td>153 AVENUE B</td>\n",
       "      <td>...</td>\n",
       "      <td>5</td>\n",
       "      <td>0</td>\n",
       "      <td>5</td>\n",
       "      <td>1633</td>\n",
       "      <td>6440</td>\n",
       "      <td>1900</td>\n",
       "      <td>2</td>\n",
       "      <td>C2</td>\n",
       "      <td>6625000</td>\n",
       "      <td>2017-07-19 00:00:00</td>\n",
       "    </tr>\n",
       "    <tr>\n",
       "      <th>1</th>\n",
       "      <td>5</td>\n",
       "      <td>1</td>\n",
       "      <td>ALPHABET CITY</td>\n",
       "      <td>07 RENTALS - WALKUP APARTMENTS</td>\n",
       "      <td>2</td>\n",
       "      <td>399</td>\n",
       "      <td>26</td>\n",
       "      <td></td>\n",
       "      <td>C7</td>\n",
       "      <td>234 EAST 4TH   STREET</td>\n",
       "      <td>...</td>\n",
       "      <td>28</td>\n",
       "      <td>3</td>\n",
       "      <td>31</td>\n",
       "      <td>4616</td>\n",
       "      <td>18690</td>\n",
       "      <td>1900</td>\n",
       "      <td>2</td>\n",
       "      <td>C7</td>\n",
       "      <td>-</td>\n",
       "      <td>2016-12-14 00:00:00</td>\n",
       "    </tr>\n",
       "    <tr>\n",
       "      <th>2</th>\n",
       "      <td>6</td>\n",
       "      <td>1</td>\n",
       "      <td>ALPHABET CITY</td>\n",
       "      <td>07 RENTALS - WALKUP APARTMENTS</td>\n",
       "      <td>2</td>\n",
       "      <td>399</td>\n",
       "      <td>39</td>\n",
       "      <td></td>\n",
       "      <td>C7</td>\n",
       "      <td>197 EAST 3RD   STREET</td>\n",
       "      <td>...</td>\n",
       "      <td>16</td>\n",
       "      <td>1</td>\n",
       "      <td>17</td>\n",
       "      <td>2212</td>\n",
       "      <td>7803</td>\n",
       "      <td>1900</td>\n",
       "      <td>2</td>\n",
       "      <td>C7</td>\n",
       "      <td>-</td>\n",
       "      <td>2016-12-09 00:00:00</td>\n",
       "    </tr>\n",
       "    <tr>\n",
       "      <th>3</th>\n",
       "      <td>7</td>\n",
       "      <td>1</td>\n",
       "      <td>ALPHABET CITY</td>\n",
       "      <td>07 RENTALS - WALKUP APARTMENTS</td>\n",
       "      <td>2B</td>\n",
       "      <td>402</td>\n",
       "      <td>21</td>\n",
       "      <td></td>\n",
       "      <td>C4</td>\n",
       "      <td>154 EAST 7TH STREET</td>\n",
       "      <td>...</td>\n",
       "      <td>10</td>\n",
       "      <td>0</td>\n",
       "      <td>10</td>\n",
       "      <td>2272</td>\n",
       "      <td>6794</td>\n",
       "      <td>1913</td>\n",
       "      <td>2</td>\n",
       "      <td>C4</td>\n",
       "      <td>3936272</td>\n",
       "      <td>2016-09-23 00:00:00</td>\n",
       "    </tr>\n",
       "    <tr>\n",
       "      <th>4</th>\n",
       "      <td>8</td>\n",
       "      <td>1</td>\n",
       "      <td>ALPHABET CITY</td>\n",
       "      <td>07 RENTALS - WALKUP APARTMENTS</td>\n",
       "      <td>2A</td>\n",
       "      <td>404</td>\n",
       "      <td>55</td>\n",
       "      <td></td>\n",
       "      <td>C2</td>\n",
       "      <td>301 EAST 10TH   STREET</td>\n",
       "      <td>...</td>\n",
       "      <td>6</td>\n",
       "      <td>0</td>\n",
       "      <td>6</td>\n",
       "      <td>2369</td>\n",
       "      <td>4615</td>\n",
       "      <td>1900</td>\n",
       "      <td>2</td>\n",
       "      <td>C2</td>\n",
       "      <td>8000000</td>\n",
       "      <td>2016-11-17 00:00:00</td>\n",
       "    </tr>\n",
       "  </tbody>\n",
       "</table>\n",
       "<p>5 rows × 22 columns</p>\n",
       "</div>"
      ],
      "text/plain": [
       "   Unnamed: 0  BOROUGH   NEIGHBORHOOD  \\\n",
       "0           4        1  ALPHABET CITY   \n",
       "1           5        1  ALPHABET CITY   \n",
       "2           6        1  ALPHABET CITY   \n",
       "3           7        1  ALPHABET CITY   \n",
       "4           8        1  ALPHABET CITY   \n",
       "\n",
       "                       BUILDING CLASS CATEGORY TAX CLASS AT PRESENT  BLOCK  \\\n",
       "0  07 RENTALS - WALKUP APARTMENTS                                2A    392   \n",
       "1  07 RENTALS - WALKUP APARTMENTS                                 2    399   \n",
       "2  07 RENTALS - WALKUP APARTMENTS                                 2    399   \n",
       "3  07 RENTALS - WALKUP APARTMENTS                                2B    402   \n",
       "4  07 RENTALS - WALKUP APARTMENTS                                2A    404   \n",
       "\n",
       "   LOT EASE-MENT BUILDING CLASS AT PRESENT                 ADDRESS  ...  \\\n",
       "0    6                                  C2            153 AVENUE B  ...   \n",
       "1   26                                  C7   234 EAST 4TH   STREET  ...   \n",
       "2   39                                  C7   197 EAST 3RD   STREET  ...   \n",
       "3   21                                  C4     154 EAST 7TH STREET  ...   \n",
       "4   55                                  C2  301 EAST 10TH   STREET  ...   \n",
       "\n",
       "  RESIDENTIAL UNITS  COMMERCIAL UNITS  TOTAL UNITS  LAND SQUARE FEET  \\\n",
       "0                 5                 0            5              1633   \n",
       "1                28                 3           31              4616   \n",
       "2                16                 1           17              2212   \n",
       "3                10                 0           10              2272   \n",
       "4                 6                 0            6              2369   \n",
       "\n",
       "   GROSS SQUARE FEET YEAR BUILT TAX CLASS AT TIME OF SALE  \\\n",
       "0               6440       1900                         2   \n",
       "1              18690       1900                         2   \n",
       "2               7803       1900                         2   \n",
       "3               6794       1913                         2   \n",
       "4               4615       1900                         2   \n",
       "\n",
       "   BUILDING CLASS AT TIME OF SALE  SALE PRICE            SALE DATE  \n",
       "0                              C2     6625000  2017-07-19 00:00:00  \n",
       "1                              C7         -    2016-12-14 00:00:00  \n",
       "2                              C7         -    2016-12-09 00:00:00  \n",
       "3                              C4     3936272  2016-09-23 00:00:00  \n",
       "4                              C2     8000000  2016-11-17 00:00:00  \n",
       "\n",
       "[5 rows x 22 columns]"
      ]
     },
     "execution_count": 2,
     "metadata": {},
     "output_type": "execute_result"
    }
   ],
   "source": [
    "# open & read data source = csv\n",
    "open('nyc.csv', 'r')\n",
    "\n",
    "# set data as data frame\n",
    "df_ori = pd.read_csv('nyc.csv')\n",
    "\n",
    "#duplicate data ori\n",
    "df = df_ori.copy()\n",
    "df.head()"
   ]
  },
  {
   "cell_type": "markdown",
   "metadata": {},
   "source": [
    "Let's check the dataset's details:"
   ]
  },
  {
   "cell_type": "code",
   "execution_count": 3,
   "metadata": {},
   "outputs": [
    {
     "data": {
      "text/plain": [
       "(84548, 22)"
      ]
     },
     "execution_count": 3,
     "metadata": {},
     "output_type": "execute_result"
    }
   ],
   "source": [
    "df.shape"
   ]
  },
  {
   "cell_type": "code",
   "execution_count": 4,
   "metadata": {},
   "outputs": [
    {
     "data": {
      "text/plain": [
       "Index(['Unnamed: 0', 'BOROUGH', 'NEIGHBORHOOD', 'BUILDING CLASS CATEGORY',\n",
       "       'TAX CLASS AT PRESENT', 'BLOCK', 'LOT', 'EASE-MENT',\n",
       "       'BUILDING CLASS AT PRESENT', 'ADDRESS', 'APARTMENT NUMBER', 'ZIP CODE',\n",
       "       'RESIDENTIAL UNITS', 'COMMERCIAL UNITS', 'TOTAL UNITS',\n",
       "       'LAND SQUARE FEET', 'GROSS SQUARE FEET', 'YEAR BUILT',\n",
       "       'TAX CLASS AT TIME OF SALE', 'BUILDING CLASS AT TIME OF SALE',\n",
       "       'SALE PRICE', 'SALE DATE'],\n",
       "      dtype='object')"
      ]
     },
     "execution_count": 4,
     "metadata": {},
     "output_type": "execute_result"
    }
   ],
   "source": [
    "df.columns"
   ]
  },
  {
   "cell_type": "code",
   "execution_count": 5,
   "metadata": {},
   "outputs": [
    {
     "name": "stdout",
     "output_type": "stream",
     "text": [
      "<class 'pandas.core.frame.DataFrame'>\n",
      "RangeIndex: 84548 entries, 0 to 84547\n",
      "Data columns (total 22 columns):\n",
      " #   Column                          Non-Null Count  Dtype \n",
      "---  ------                          --------------  ----- \n",
      " 0   Unnamed: 0                      84548 non-null  int64 \n",
      " 1   BOROUGH                         84548 non-null  int64 \n",
      " 2   NEIGHBORHOOD                    84548 non-null  object\n",
      " 3   BUILDING CLASS CATEGORY         84548 non-null  object\n",
      " 4   TAX CLASS AT PRESENT            84548 non-null  object\n",
      " 5   BLOCK                           84548 non-null  int64 \n",
      " 6   LOT                             84548 non-null  int64 \n",
      " 7   EASE-MENT                       84548 non-null  object\n",
      " 8   BUILDING CLASS AT PRESENT       84548 non-null  object\n",
      " 9   ADDRESS                         84548 non-null  object\n",
      " 10  APARTMENT NUMBER                84548 non-null  object\n",
      " 11  ZIP CODE                        84548 non-null  int64 \n",
      " 12  RESIDENTIAL UNITS               84548 non-null  int64 \n",
      " 13  COMMERCIAL UNITS                84548 non-null  int64 \n",
      " 14  TOTAL UNITS                     84548 non-null  int64 \n",
      " 15  LAND SQUARE FEET                84548 non-null  object\n",
      " 16  GROSS SQUARE FEET               84548 non-null  object\n",
      " 17  YEAR BUILT                      84548 non-null  int64 \n",
      " 18  TAX CLASS AT TIME OF SALE       84548 non-null  int64 \n",
      " 19  BUILDING CLASS AT TIME OF SALE  84548 non-null  object\n",
      " 20  SALE PRICE                      84548 non-null  object\n",
      " 21  SALE DATE                       84548 non-null  object\n",
      "dtypes: int64(10), object(12)\n",
      "memory usage: 14.2+ MB\n"
     ]
    }
   ],
   "source": [
    "df.info()"
   ]
  },
  {
   "cell_type": "markdown",
   "metadata": {},
   "source": [
    "We notice that there's a blank column named 'EASE-MENT', let's check if it has a data or not"
   ]
  },
  {
   "cell_type": "code",
   "execution_count": 6,
   "metadata": {},
   "outputs": [
    {
     "name": "stdout",
     "output_type": "stream",
     "text": [
      "[' ']\n"
     ]
    }
   ],
   "source": [
    "# check unique values in the 'EASE-MENT' column\n",
    "unique_values = df['EASE-MENT'].unique()\n",
    "print(unique_values)"
   ]
  },
  {
   "cell_type": "markdown",
   "metadata": {},
   "source": [
    "The 'APARTMENT NUMBER' column also looks blank, let's check if it has a value inside"
   ]
  },
  {
   "cell_type": "code",
   "execution_count": 7,
   "metadata": {},
   "outputs": [
    {
     "name": "stdout",
     "output_type": "stream",
     "text": [
      "[' ' 'RES' 'UNIT1' ... '115' 'MS-B' '363']\n"
     ]
    }
   ],
   "source": [
    "print(df['APARTMENT NUMBER'].unique())"
   ]
  },
  {
   "cell_type": "markdown",
   "metadata": {},
   "source": [
    "Since there are blank values in the column, we can delete it along with the Unnammed: 0 column"
   ]
  },
  {
   "cell_type": "code",
   "execution_count": 8,
   "metadata": {},
   "outputs": [],
   "source": [
    "# drop the 'Unnamed: 0' and 'EASE-MENT' columns and assign the modified DataFrame back to df\n",
    "df = df.drop(['Unnamed: 0', 'EASE-MENT'], axis=1)"
   ]
  },
  {
   "cell_type": "code",
   "execution_count": 9,
   "metadata": {},
   "outputs": [
    {
     "data": {
      "text/html": [
       "<div>\n",
       "<style scoped>\n",
       "    .dataframe tbody tr th:only-of-type {\n",
       "        vertical-align: middle;\n",
       "    }\n",
       "\n",
       "    .dataframe tbody tr th {\n",
       "        vertical-align: top;\n",
       "    }\n",
       "\n",
       "    .dataframe thead th {\n",
       "        text-align: right;\n",
       "    }\n",
       "</style>\n",
       "<table border=\"1\" class=\"dataframe\">\n",
       "  <thead>\n",
       "    <tr style=\"text-align: right;\">\n",
       "      <th></th>\n",
       "      <th>BOROUGH</th>\n",
       "      <th>NEIGHBORHOOD</th>\n",
       "      <th>BUILDING CLASS CATEGORY</th>\n",
       "      <th>TAX CLASS AT PRESENT</th>\n",
       "      <th>BLOCK</th>\n",
       "      <th>LOT</th>\n",
       "      <th>BUILDING CLASS AT PRESENT</th>\n",
       "      <th>ADDRESS</th>\n",
       "      <th>APARTMENT NUMBER</th>\n",
       "      <th>ZIP CODE</th>\n",
       "      <th>RESIDENTIAL UNITS</th>\n",
       "      <th>COMMERCIAL UNITS</th>\n",
       "      <th>TOTAL UNITS</th>\n",
       "      <th>LAND SQUARE FEET</th>\n",
       "      <th>GROSS SQUARE FEET</th>\n",
       "      <th>YEAR BUILT</th>\n",
       "      <th>TAX CLASS AT TIME OF SALE</th>\n",
       "      <th>BUILDING CLASS AT TIME OF SALE</th>\n",
       "      <th>SALE PRICE</th>\n",
       "      <th>SALE DATE</th>\n",
       "    </tr>\n",
       "  </thead>\n",
       "  <tbody>\n",
       "    <tr>\n",
       "      <th>0</th>\n",
       "      <td>1</td>\n",
       "      <td>ALPHABET CITY</td>\n",
       "      <td>07 RENTALS - WALKUP APARTMENTS</td>\n",
       "      <td>2A</td>\n",
       "      <td>392</td>\n",
       "      <td>6</td>\n",
       "      <td>C2</td>\n",
       "      <td>153 AVENUE B</td>\n",
       "      <td></td>\n",
       "      <td>10009</td>\n",
       "      <td>5</td>\n",
       "      <td>0</td>\n",
       "      <td>5</td>\n",
       "      <td>1633</td>\n",
       "      <td>6440</td>\n",
       "      <td>1900</td>\n",
       "      <td>2</td>\n",
       "      <td>C2</td>\n",
       "      <td>6625000</td>\n",
       "      <td>2017-07-19 00:00:00</td>\n",
       "    </tr>\n",
       "    <tr>\n",
       "      <th>1</th>\n",
       "      <td>1</td>\n",
       "      <td>ALPHABET CITY</td>\n",
       "      <td>07 RENTALS - WALKUP APARTMENTS</td>\n",
       "      <td>2</td>\n",
       "      <td>399</td>\n",
       "      <td>26</td>\n",
       "      <td>C7</td>\n",
       "      <td>234 EAST 4TH   STREET</td>\n",
       "      <td></td>\n",
       "      <td>10009</td>\n",
       "      <td>28</td>\n",
       "      <td>3</td>\n",
       "      <td>31</td>\n",
       "      <td>4616</td>\n",
       "      <td>18690</td>\n",
       "      <td>1900</td>\n",
       "      <td>2</td>\n",
       "      <td>C7</td>\n",
       "      <td>-</td>\n",
       "      <td>2016-12-14 00:00:00</td>\n",
       "    </tr>\n",
       "    <tr>\n",
       "      <th>2</th>\n",
       "      <td>1</td>\n",
       "      <td>ALPHABET CITY</td>\n",
       "      <td>07 RENTALS - WALKUP APARTMENTS</td>\n",
       "      <td>2</td>\n",
       "      <td>399</td>\n",
       "      <td>39</td>\n",
       "      <td>C7</td>\n",
       "      <td>197 EAST 3RD   STREET</td>\n",
       "      <td></td>\n",
       "      <td>10009</td>\n",
       "      <td>16</td>\n",
       "      <td>1</td>\n",
       "      <td>17</td>\n",
       "      <td>2212</td>\n",
       "      <td>7803</td>\n",
       "      <td>1900</td>\n",
       "      <td>2</td>\n",
       "      <td>C7</td>\n",
       "      <td>-</td>\n",
       "      <td>2016-12-09 00:00:00</td>\n",
       "    </tr>\n",
       "    <tr>\n",
       "      <th>3</th>\n",
       "      <td>1</td>\n",
       "      <td>ALPHABET CITY</td>\n",
       "      <td>07 RENTALS - WALKUP APARTMENTS</td>\n",
       "      <td>2B</td>\n",
       "      <td>402</td>\n",
       "      <td>21</td>\n",
       "      <td>C4</td>\n",
       "      <td>154 EAST 7TH STREET</td>\n",
       "      <td></td>\n",
       "      <td>10009</td>\n",
       "      <td>10</td>\n",
       "      <td>0</td>\n",
       "      <td>10</td>\n",
       "      <td>2272</td>\n",
       "      <td>6794</td>\n",
       "      <td>1913</td>\n",
       "      <td>2</td>\n",
       "      <td>C4</td>\n",
       "      <td>3936272</td>\n",
       "      <td>2016-09-23 00:00:00</td>\n",
       "    </tr>\n",
       "    <tr>\n",
       "      <th>4</th>\n",
       "      <td>1</td>\n",
       "      <td>ALPHABET CITY</td>\n",
       "      <td>07 RENTALS - WALKUP APARTMENTS</td>\n",
       "      <td>2A</td>\n",
       "      <td>404</td>\n",
       "      <td>55</td>\n",
       "      <td>C2</td>\n",
       "      <td>301 EAST 10TH   STREET</td>\n",
       "      <td></td>\n",
       "      <td>10009</td>\n",
       "      <td>6</td>\n",
       "      <td>0</td>\n",
       "      <td>6</td>\n",
       "      <td>2369</td>\n",
       "      <td>4615</td>\n",
       "      <td>1900</td>\n",
       "      <td>2</td>\n",
       "      <td>C2</td>\n",
       "      <td>8000000</td>\n",
       "      <td>2016-11-17 00:00:00</td>\n",
       "    </tr>\n",
       "  </tbody>\n",
       "</table>\n",
       "</div>"
      ],
      "text/plain": [
       "   BOROUGH   NEIGHBORHOOD                      BUILDING CLASS CATEGORY  \\\n",
       "0        1  ALPHABET CITY  07 RENTALS - WALKUP APARTMENTS                \n",
       "1        1  ALPHABET CITY  07 RENTALS - WALKUP APARTMENTS                \n",
       "2        1  ALPHABET CITY  07 RENTALS - WALKUP APARTMENTS                \n",
       "3        1  ALPHABET CITY  07 RENTALS - WALKUP APARTMENTS                \n",
       "4        1  ALPHABET CITY  07 RENTALS - WALKUP APARTMENTS                \n",
       "\n",
       "  TAX CLASS AT PRESENT  BLOCK  LOT BUILDING CLASS AT PRESENT  \\\n",
       "0                   2A    392    6                        C2   \n",
       "1                    2    399   26                        C7   \n",
       "2                    2    399   39                        C7   \n",
       "3                   2B    402   21                        C4   \n",
       "4                   2A    404   55                        C2   \n",
       "\n",
       "                  ADDRESS APARTMENT NUMBER  ZIP CODE  RESIDENTIAL UNITS  \\\n",
       "0            153 AVENUE B                      10009                  5   \n",
       "1   234 EAST 4TH   STREET                      10009                 28   \n",
       "2   197 EAST 3RD   STREET                      10009                 16   \n",
       "3     154 EAST 7TH STREET                      10009                 10   \n",
       "4  301 EAST 10TH   STREET                      10009                  6   \n",
       "\n",
       "   COMMERCIAL UNITS  TOTAL UNITS LAND SQUARE FEET GROSS SQUARE FEET  \\\n",
       "0                 0            5             1633              6440   \n",
       "1                 3           31             4616             18690   \n",
       "2                 1           17             2212              7803   \n",
       "3                 0           10             2272              6794   \n",
       "4                 0            6             2369              4615   \n",
       "\n",
       "   YEAR BUILT  TAX CLASS AT TIME OF SALE BUILDING CLASS AT TIME OF SALE  \\\n",
       "0        1900                          2                             C2   \n",
       "1        1900                          2                             C7   \n",
       "2        1900                          2                             C7   \n",
       "3        1913                          2                             C4   \n",
       "4        1900                          2                             C2   \n",
       "\n",
       "  SALE PRICE            SALE DATE  \n",
       "0    6625000  2017-07-19 00:00:00  \n",
       "1        -    2016-12-14 00:00:00  \n",
       "2        -    2016-12-09 00:00:00  \n",
       "3    3936272  2016-09-23 00:00:00  \n",
       "4    8000000  2016-11-17 00:00:00  "
      ]
     },
     "execution_count": 9,
     "metadata": {},
     "output_type": "execute_result"
    }
   ],
   "source": [
    "df.head()"
   ]
  },
  {
   "cell_type": "markdown",
   "metadata": {},
   "source": [
    "Now let's check for any whitespace or emptyspace"
   ]
  },
  {
   "cell_type": "code",
   "execution_count": 10,
   "metadata": {},
   "outputs": [
    {
     "name": "stderr",
     "output_type": "stream",
     "text": [
      "/var/folders/c3/_g425yfx56z0vhzwg8_2sqj40000gn/T/ipykernel_821/3743084778.py:1: FutureWarning: DataFrame.applymap has been deprecated. Use DataFrame.map instead.\n",
      "  counts_ = df.applymap(lambda x: str(x).count(\"-\"))\n"
     ]
    },
    {
     "name": "stderr",
     "output_type": "stream",
     "text": [
      "/var/folders/c3/_g425yfx56z0vhzwg8_2sqj40000gn/T/ipykernel_821/3743084778.py:2: FutureWarning: DataFrame.applymap has been deprecated. Use DataFrame.map instead.\n",
      "  counts_space = df.applymap(lambda x: str(x).count(\" \"))\n"
     ]
    },
    {
     "name": "stdout",
     "output_type": "stream",
     "text": [
      "there is 321133 '-' and 2406973 spaces\n"
     ]
    }
   ],
   "source": [
    "counts_ = df.applymap(lambda x: str(x).count(\"-\"))\n",
    "counts_space = df.applymap(lambda x: str(x).count(\" \"))\n",
    "print(f\"there is {counts_.sum().sum()} '-' and {counts_space.sum().sum()} spaces\")"
   ]
  },
  {
   "cell_type": "markdown",
   "metadata": {},
   "source": [
    "Also let's remove any duplicated values"
   ]
  },
  {
   "cell_type": "code",
   "execution_count": 11,
   "metadata": {},
   "outputs": [],
   "source": [
    "# if you see our data, it include somme missing values it represent it like '-' we will replace it by nan\n",
    "# blank rows should instead be null values\n",
    "\n",
    "map_dict={'-':np.nan,' ':np.nan}\n",
    "df.replace(map_dict,inplace = True)"
   ]
  },
  {
   "cell_type": "code",
   "execution_count": 12,
   "metadata": {},
   "outputs": [
    {
     "data": {
      "text/plain": [
       "765"
      ]
     },
     "execution_count": 12,
     "metadata": {},
     "output_type": "execute_result"
    }
   ],
   "source": [
    "# view if there is any duplicated values\n",
    "sum(df.duplicated())"
   ]
  },
  {
   "cell_type": "markdown",
   "metadata": {},
   "source": [
    "Let's identify for any missing values"
   ]
  },
  {
   "cell_type": "code",
   "execution_count": 13,
   "metadata": {},
   "outputs": [
    {
     "data": {
      "text/plain": [
       "BOROUGH                               0\n",
       "NEIGHBORHOOD                          0\n",
       "BUILDING CLASS CATEGORY               0\n",
       "TAX CLASS AT PRESENT                738\n",
       "BLOCK                                 0\n",
       "LOT                                   0\n",
       "BUILDING CLASS AT PRESENT           738\n",
       "ADDRESS                               0\n",
       "APARTMENT NUMBER                  65496\n",
       "ZIP CODE                              0\n",
       "RESIDENTIAL UNITS                     0\n",
       "COMMERCIAL UNITS                      0\n",
       "TOTAL UNITS                           0\n",
       "LAND SQUARE FEET                      0\n",
       "GROSS SQUARE FEET                     0\n",
       "YEAR BUILT                            0\n",
       "TAX CLASS AT TIME OF SALE             0\n",
       "BUILDING CLASS AT TIME OF SALE        0\n",
       "SALE PRICE                            0\n",
       "SALE DATE                             0\n",
       "dtype: int64"
      ]
     },
     "execution_count": 13,
     "metadata": {},
     "output_type": "execute_result"
    }
   ],
   "source": [
    "df.isnull().sum()"
   ]
  },
  {
   "cell_type": "markdown",
   "metadata": {},
   "source": [
    "There are several missing values after we define it in the columns 'TAX CLASS AT PRESENT', 'BUILDING CLASS AT PRESENT', and 'APARTMENT NUMBER'."
   ]
  },
  {
   "cell_type": "markdown",
   "metadata": {},
   "source": [
    "Let's handle the non-numeric data in numeric columns, so they can be computed later"
   ]
  },
  {
   "cell_type": "code",
   "execution_count": 21,
   "metadata": {},
   "outputs": [],
   "source": [
    "numeric_columns = ['LAND SQUARE FEET', 'GROSS SQUARE FEET', 'SALE PRICE']\n",
    "for col in df.columns:\n",
    "    if col in numeric_columns:\n",
    "        # convert to numeric, setting errors to 'coerce' to handle non-numeric values\n",
    "        df[col] = pd.to_numeric(df[col], errors='coerce')"
   ]
  },
  {
   "cell_type": "markdown",
   "metadata": {},
   "source": [
    "Now impute the missing values"
   ]
  },
  {
   "cell_type": "code",
   "execution_count": 22,
   "metadata": {},
   "outputs": [
    {
     "data": {
      "text/plain": [
       "{'Missing Values After Imputation': LAND SQUARE FEET     0\n",
       " GROSS SQUARE FEET    0\n",
       " SALE PRICE           0\n",
       " dtype: int64,\n",
       " 'Remaining Rows': 69987}"
      ]
     },
     "execution_count": 22,
     "metadata": {},
     "output_type": "execute_result"
    }
   ],
   "source": [
    "# imputing missing values in 'LAND SQUARE FEET' and 'GROSS SQUARE FEET' using the median\n",
    "for col in ['LAND SQUARE FEET', 'GROSS SQUARE FEET']:\n",
    "    median_value = df[col].median()\n",
    "    df[col].fillna(median_value, inplace=True)\n",
    "\n",
    "# removing rows where 'SALE PRICE' is missing\n",
    "df = df.dropna(subset=['SALE PRICE'])\n",
    "\n",
    "# Checking the changes made\n",
    "df_info = {\n",
    "    \"Missing Values After Imputation\": df[numeric_columns].isnull().sum(),\n",
    "    \"Remaining Rows\": len(df)\n",
    "}\n",
    "\n",
    "df_info"
   ]
  },
  {
   "cell_type": "markdown",
   "metadata": {},
   "source": [
    "Now let's check for data consistency and split the sale date into month and year "
   ]
  },
  {
   "cell_type": "code",
   "execution_count": 14,
   "metadata": {},
   "outputs": [],
   "source": [
    "df['SALE DATE'] = pd.to_datetime(df['SALE DATE'])\n",
    "df['year'] = df['SALE DATE'].dt.year\n",
    "df['month'] = df['SALE DATE'].dt.month"
   ]
  },
  {
   "cell_type": "code",
   "execution_count": 15,
   "metadata": {},
   "outputs": [
    {
     "data": {
      "text/html": [
       "<div>\n",
       "<style scoped>\n",
       "    .dataframe tbody tr th:only-of-type {\n",
       "        vertical-align: middle;\n",
       "    }\n",
       "\n",
       "    .dataframe tbody tr th {\n",
       "        vertical-align: top;\n",
       "    }\n",
       "\n",
       "    .dataframe thead th {\n",
       "        text-align: right;\n",
       "    }\n",
       "</style>\n",
       "<table border=\"1\" class=\"dataframe\">\n",
       "  <thead>\n",
       "    <tr style=\"text-align: right;\">\n",
       "      <th></th>\n",
       "      <th>BOROUGH</th>\n",
       "      <th>NEIGHBORHOOD</th>\n",
       "      <th>BUILDING CLASS CATEGORY</th>\n",
       "      <th>TAX CLASS AT PRESENT</th>\n",
       "      <th>BLOCK</th>\n",
       "      <th>LOT</th>\n",
       "      <th>BUILDING CLASS AT PRESENT</th>\n",
       "      <th>ADDRESS</th>\n",
       "      <th>APARTMENT NUMBER</th>\n",
       "      <th>ZIP CODE</th>\n",
       "      <th>...</th>\n",
       "      <th>TOTAL UNITS</th>\n",
       "      <th>LAND SQUARE FEET</th>\n",
       "      <th>GROSS SQUARE FEET</th>\n",
       "      <th>YEAR BUILT</th>\n",
       "      <th>TAX CLASS AT TIME OF SALE</th>\n",
       "      <th>BUILDING CLASS AT TIME OF SALE</th>\n",
       "      <th>SALE PRICE</th>\n",
       "      <th>SALE DATE</th>\n",
       "      <th>year</th>\n",
       "      <th>month</th>\n",
       "    </tr>\n",
       "  </thead>\n",
       "  <tbody>\n",
       "    <tr>\n",
       "      <th>0</th>\n",
       "      <td>1</td>\n",
       "      <td>ALPHABET CITY</td>\n",
       "      <td>07 RENTALS - WALKUP APARTMENTS</td>\n",
       "      <td>2A</td>\n",
       "      <td>392</td>\n",
       "      <td>6</td>\n",
       "      <td>C2</td>\n",
       "      <td>153 AVENUE B</td>\n",
       "      <td>NaN</td>\n",
       "      <td>10009</td>\n",
       "      <td>...</td>\n",
       "      <td>5</td>\n",
       "      <td>1633</td>\n",
       "      <td>6440</td>\n",
       "      <td>1900</td>\n",
       "      <td>2</td>\n",
       "      <td>C2</td>\n",
       "      <td>6625000</td>\n",
       "      <td>2017-07-19</td>\n",
       "      <td>2017</td>\n",
       "      <td>7</td>\n",
       "    </tr>\n",
       "    <tr>\n",
       "      <th>1</th>\n",
       "      <td>1</td>\n",
       "      <td>ALPHABET CITY</td>\n",
       "      <td>07 RENTALS - WALKUP APARTMENTS</td>\n",
       "      <td>2</td>\n",
       "      <td>399</td>\n",
       "      <td>26</td>\n",
       "      <td>C7</td>\n",
       "      <td>234 EAST 4TH   STREET</td>\n",
       "      <td>NaN</td>\n",
       "      <td>10009</td>\n",
       "      <td>...</td>\n",
       "      <td>31</td>\n",
       "      <td>4616</td>\n",
       "      <td>18690</td>\n",
       "      <td>1900</td>\n",
       "      <td>2</td>\n",
       "      <td>C7</td>\n",
       "      <td>-</td>\n",
       "      <td>2016-12-14</td>\n",
       "      <td>2016</td>\n",
       "      <td>12</td>\n",
       "    </tr>\n",
       "    <tr>\n",
       "      <th>2</th>\n",
       "      <td>1</td>\n",
       "      <td>ALPHABET CITY</td>\n",
       "      <td>07 RENTALS - WALKUP APARTMENTS</td>\n",
       "      <td>2</td>\n",
       "      <td>399</td>\n",
       "      <td>39</td>\n",
       "      <td>C7</td>\n",
       "      <td>197 EAST 3RD   STREET</td>\n",
       "      <td>NaN</td>\n",
       "      <td>10009</td>\n",
       "      <td>...</td>\n",
       "      <td>17</td>\n",
       "      <td>2212</td>\n",
       "      <td>7803</td>\n",
       "      <td>1900</td>\n",
       "      <td>2</td>\n",
       "      <td>C7</td>\n",
       "      <td>-</td>\n",
       "      <td>2016-12-09</td>\n",
       "      <td>2016</td>\n",
       "      <td>12</td>\n",
       "    </tr>\n",
       "  </tbody>\n",
       "</table>\n",
       "<p>3 rows × 22 columns</p>\n",
       "</div>"
      ],
      "text/plain": [
       "   BOROUGH   NEIGHBORHOOD                      BUILDING CLASS CATEGORY  \\\n",
       "0        1  ALPHABET CITY  07 RENTALS - WALKUP APARTMENTS                \n",
       "1        1  ALPHABET CITY  07 RENTALS - WALKUP APARTMENTS                \n",
       "2        1  ALPHABET CITY  07 RENTALS - WALKUP APARTMENTS                \n",
       "\n",
       "  TAX CLASS AT PRESENT  BLOCK  LOT BUILDING CLASS AT PRESENT  \\\n",
       "0                   2A    392    6                        C2   \n",
       "1                    2    399   26                        C7   \n",
       "2                    2    399   39                        C7   \n",
       "\n",
       "                 ADDRESS APARTMENT NUMBER  ZIP CODE  ...  TOTAL UNITS  \\\n",
       "0           153 AVENUE B              NaN     10009  ...            5   \n",
       "1  234 EAST 4TH   STREET              NaN     10009  ...           31   \n",
       "2  197 EAST 3RD   STREET              NaN     10009  ...           17   \n",
       "\n",
       "   LAND SQUARE FEET  GROSS SQUARE FEET YEAR BUILT TAX CLASS AT TIME OF SALE  \\\n",
       "0              1633               6440       1900                         2   \n",
       "1              4616              18690       1900                         2   \n",
       "2              2212               7803       1900                         2   \n",
       "\n",
       "   BUILDING CLASS AT TIME OF SALE  SALE PRICE  SALE DATE  year month  \n",
       "0                              C2     6625000 2017-07-19  2017     7  \n",
       "1                              C7         -   2016-12-14  2016    12  \n",
       "2                              C7         -   2016-12-09  2016    12  \n",
       "\n",
       "[3 rows x 22 columns]"
      ]
     },
     "execution_count": 15,
     "metadata": {},
     "output_type": "execute_result"
    }
   ],
   "source": [
    "df.head(3)"
   ]
  },
  {
   "cell_type": "markdown",
   "metadata": {},
   "source": [
    "The SALE DATE column has been removed successfully, now let's remove that column"
   ]
  },
  {
   "cell_type": "code",
   "execution_count": 16,
   "metadata": {},
   "outputs": [
    {
     "data": {
      "text/html": [
       "<div>\n",
       "<style scoped>\n",
       "    .dataframe tbody tr th:only-of-type {\n",
       "        vertical-align: middle;\n",
       "    }\n",
       "\n",
       "    .dataframe tbody tr th {\n",
       "        vertical-align: top;\n",
       "    }\n",
       "\n",
       "    .dataframe thead th {\n",
       "        text-align: right;\n",
       "    }\n",
       "</style>\n",
       "<table border=\"1\" class=\"dataframe\">\n",
       "  <thead>\n",
       "    <tr style=\"text-align: right;\">\n",
       "      <th></th>\n",
       "      <th>BOROUGH</th>\n",
       "      <th>NEIGHBORHOOD</th>\n",
       "      <th>BUILDING CLASS CATEGORY</th>\n",
       "      <th>TAX CLASS AT PRESENT</th>\n",
       "      <th>BLOCK</th>\n",
       "      <th>LOT</th>\n",
       "      <th>BUILDING CLASS AT PRESENT</th>\n",
       "      <th>ADDRESS</th>\n",
       "      <th>APARTMENT NUMBER</th>\n",
       "      <th>ZIP CODE</th>\n",
       "      <th>...</th>\n",
       "      <th>COMMERCIAL UNITS</th>\n",
       "      <th>TOTAL UNITS</th>\n",
       "      <th>LAND SQUARE FEET</th>\n",
       "      <th>GROSS SQUARE FEET</th>\n",
       "      <th>YEAR BUILT</th>\n",
       "      <th>TAX CLASS AT TIME OF SALE</th>\n",
       "      <th>BUILDING CLASS AT TIME OF SALE</th>\n",
       "      <th>SALE PRICE</th>\n",
       "      <th>year</th>\n",
       "      <th>month</th>\n",
       "    </tr>\n",
       "  </thead>\n",
       "  <tbody>\n",
       "    <tr>\n",
       "      <th>0</th>\n",
       "      <td>1</td>\n",
       "      <td>ALPHABET CITY</td>\n",
       "      <td>07 RENTALS - WALKUP APARTMENTS</td>\n",
       "      <td>2A</td>\n",
       "      <td>392</td>\n",
       "      <td>6</td>\n",
       "      <td>C2</td>\n",
       "      <td>153 AVENUE B</td>\n",
       "      <td>NaN</td>\n",
       "      <td>10009</td>\n",
       "      <td>...</td>\n",
       "      <td>0</td>\n",
       "      <td>5</td>\n",
       "      <td>1633</td>\n",
       "      <td>6440</td>\n",
       "      <td>1900</td>\n",
       "      <td>2</td>\n",
       "      <td>C2</td>\n",
       "      <td>6625000</td>\n",
       "      <td>2017</td>\n",
       "      <td>7</td>\n",
       "    </tr>\n",
       "    <tr>\n",
       "      <th>1</th>\n",
       "      <td>1</td>\n",
       "      <td>ALPHABET CITY</td>\n",
       "      <td>07 RENTALS - WALKUP APARTMENTS</td>\n",
       "      <td>2</td>\n",
       "      <td>399</td>\n",
       "      <td>26</td>\n",
       "      <td>C7</td>\n",
       "      <td>234 EAST 4TH   STREET</td>\n",
       "      <td>NaN</td>\n",
       "      <td>10009</td>\n",
       "      <td>...</td>\n",
       "      <td>3</td>\n",
       "      <td>31</td>\n",
       "      <td>4616</td>\n",
       "      <td>18690</td>\n",
       "      <td>1900</td>\n",
       "      <td>2</td>\n",
       "      <td>C7</td>\n",
       "      <td>-</td>\n",
       "      <td>2016</td>\n",
       "      <td>12</td>\n",
       "    </tr>\n",
       "    <tr>\n",
       "      <th>2</th>\n",
       "      <td>1</td>\n",
       "      <td>ALPHABET CITY</td>\n",
       "      <td>07 RENTALS - WALKUP APARTMENTS</td>\n",
       "      <td>2</td>\n",
       "      <td>399</td>\n",
       "      <td>39</td>\n",
       "      <td>C7</td>\n",
       "      <td>197 EAST 3RD   STREET</td>\n",
       "      <td>NaN</td>\n",
       "      <td>10009</td>\n",
       "      <td>...</td>\n",
       "      <td>1</td>\n",
       "      <td>17</td>\n",
       "      <td>2212</td>\n",
       "      <td>7803</td>\n",
       "      <td>1900</td>\n",
       "      <td>2</td>\n",
       "      <td>C7</td>\n",
       "      <td>-</td>\n",
       "      <td>2016</td>\n",
       "      <td>12</td>\n",
       "    </tr>\n",
       "  </tbody>\n",
       "</table>\n",
       "<p>3 rows × 21 columns</p>\n",
       "</div>"
      ],
      "text/plain": [
       "   BOROUGH   NEIGHBORHOOD                      BUILDING CLASS CATEGORY  \\\n",
       "0        1  ALPHABET CITY  07 RENTALS - WALKUP APARTMENTS                \n",
       "1        1  ALPHABET CITY  07 RENTALS - WALKUP APARTMENTS                \n",
       "2        1  ALPHABET CITY  07 RENTALS - WALKUP APARTMENTS                \n",
       "\n",
       "  TAX CLASS AT PRESENT  BLOCK  LOT BUILDING CLASS AT PRESENT  \\\n",
       "0                   2A    392    6                        C2   \n",
       "1                    2    399   26                        C7   \n",
       "2                    2    399   39                        C7   \n",
       "\n",
       "                 ADDRESS APARTMENT NUMBER  ZIP CODE  ...  COMMERCIAL UNITS  \\\n",
       "0           153 AVENUE B              NaN     10009  ...                 0   \n",
       "1  234 EAST 4TH   STREET              NaN     10009  ...                 3   \n",
       "2  197 EAST 3RD   STREET              NaN     10009  ...                 1   \n",
       "\n",
       "   TOTAL UNITS  LAND SQUARE FEET GROSS SQUARE FEET YEAR BUILT  \\\n",
       "0            5              1633              6440       1900   \n",
       "1           31              4616             18690       1900   \n",
       "2           17              2212              7803       1900   \n",
       "\n",
       "   TAX CLASS AT TIME OF SALE  BUILDING CLASS AT TIME OF SALE SALE PRICE  year  \\\n",
       "0                          2                              C2    6625000  2017   \n",
       "1                          2                              C7        -    2016   \n",
       "2                          2                              C7        -    2016   \n",
       "\n",
       "   month  \n",
       "0      7  \n",
       "1     12  \n",
       "2     12  \n",
       "\n",
       "[3 rows x 21 columns]"
      ]
     },
     "execution_count": 16,
     "metadata": {},
     "output_type": "execute_result"
    }
   ],
   "source": [
    "# drop SALE DATE column\n",
    "df = df.drop(columns=['SALE DATE'])\n",
    "df.head(3)"
   ]
  },
  {
   "cell_type": "markdown",
   "metadata": {},
   "source": [
    "now let's make the dataset more readable by selecting specific numbers after the decimals"
   ]
  },
  {
   "cell_type": "code",
   "execution_count": 24,
   "metadata": {},
   "outputs": [
    {
     "name": "stdout",
     "output_type": "stream",
     "text": [
      "       BOROUGH   NEIGHBORHOOD                      BUILDING CLASS CATEGORY  \\\n",
      "0            1  ALPHABET CITY  07 RENTALS - WALKUP APARTMENTS                \n",
      "3            1  ALPHABET CITY  07 RENTALS - WALKUP APARTMENTS                \n",
      "4            1  ALPHABET CITY  07 RENTALS - WALKUP APARTMENTS                \n",
      "6            1  ALPHABET CITY  07 RENTALS - WALKUP APARTMENTS                \n",
      "9            1  ALPHABET CITY  08 RENTALS - ELEVATOR APARTMENTS              \n",
      "...        ...            ...                                          ...   \n",
      "84543        5        WOODROW  02 TWO FAMILY DWELLINGS                       \n",
      "84544        5        WOODROW  02 TWO FAMILY DWELLINGS                       \n",
      "84545        5        WOODROW  02 TWO FAMILY DWELLINGS                       \n",
      "84546        5        WOODROW  22 STORE BUILDINGS                            \n",
      "84547        5        WOODROW  35 INDOOR PUBLIC AND CULTURAL FACILITIES      \n",
      "\n",
      "      TAX CLASS AT PRESENT  BLOCK  LOT BUILDING CLASS AT PRESENT  \\\n",
      "0                       2A    392    6                        C2   \n",
      "3                       2B    402   21                        C4   \n",
      "4                       2A    404   55                        C2   \n",
      "6                       2B    406   32                        C4   \n",
      "9                        2    387  153                        D9   \n",
      "...                    ...    ...  ...                       ...   \n",
      "84543                    1   7349   34                        B9   \n",
      "84544                    1   7349   78                        B9   \n",
      "84545                    1   7351   60                        B2   \n",
      "84546                    4   7100   28                        K6   \n",
      "84547                    4   7105  679                        P9   \n",
      "\n",
      "                      ADDRESS APARTMENT NUMBER  ZIP CODE  ...  \\\n",
      "0                153 AVENUE B              NaN     10009  ...   \n",
      "3         154 EAST 7TH STREET              NaN     10009  ...   \n",
      "4      301 EAST 10TH   STREET              NaN     10009  ...   \n",
      "6                210 AVENUE B              NaN     10009  ...   \n",
      "9         629 EAST 5TH STREET              NaN     10009  ...   \n",
      "...                       ...              ...       ...  ...   \n",
      "84543           37 QUAIL LANE              NaN     10309  ...   \n",
      "84544        32 PHEASANT LANE              NaN     10309  ...   \n",
      "84545        49 PITNEY AVENUE              NaN     10309  ...   \n",
      "84546   2730 ARTHUR KILL ROAD              NaN     10309  ...   \n",
      "84547       155 CLAY PIT ROAD              NaN     10309  ...   \n",
      "\n",
      "       COMMERCIAL UNITS  TOTAL UNITS  LAND SQUARE FEET  GROSS SQUARE FEET  \\\n",
      "0                     0            5            1633.0             6440.0   \n",
      "3                     0           10            2272.0             6794.0   \n",
      "4                     0            6            2369.0             4615.0   \n",
      "6                     0            8            1750.0             4226.0   \n",
      "9                     0           24            4489.0            18523.0   \n",
      "...                 ...          ...               ...                ...   \n",
      "84543                 0            2            2400.0             2575.0   \n",
      "84544                 0            2            2498.0             2377.0   \n",
      "84545                 0            2            4000.0             1496.0   \n",
      "84546                 7            7          208033.0            64117.0   \n",
      "84547                 1            1           10796.0             2400.0   \n",
      "\n",
      "       YEAR BUILT  TAX CLASS AT TIME OF SALE  BUILDING CLASS AT TIME OF SALE  \\\n",
      "0            1900                          2                              C2   \n",
      "3            1913                          2                              C4   \n",
      "4            1900                          2                              C2   \n",
      "6            1920                          2                              C4   \n",
      "9            1920                          2                              D9   \n",
      "...           ...                        ...                             ...   \n",
      "84543        1998                          1                              B9   \n",
      "84544        1998                          1                              B9   \n",
      "84545        1925                          1                              B2   \n",
      "84546        2001                          4                              K6   \n",
      "84547        2006                          4                              P9   \n",
      "\n",
      "      SALE PRICE  year  month  \n",
      "0       6.62e+06  2017      7  \n",
      "3       3.94e+06  2016      9  \n",
      "4       8.00e+06  2016     11  \n",
      "6       3.19e+06  2016      9  \n",
      "9       1.62e+07  2016     11  \n",
      "...          ...   ...    ...  \n",
      "84543   4.50e+05  2016     11  \n",
      "84544   5.50e+05  2017      4  \n",
      "84545   4.60e+05  2017      7  \n",
      "84546   1.17e+07  2016     12  \n",
      "84547   6.93e+04  2016     10  \n",
      "\n",
      "[69987 rows x 21 columns]\n"
     ]
    }
   ],
   "source": [
    "pd.set_option('display.precision', 2)\n",
    "print(df)"
   ]
  },
  {
   "cell_type": "markdown",
   "metadata": {},
   "source": [
    "Now let's start finding the objective"
   ]
  },
  {
   "cell_type": "code",
   "execution_count": 18,
   "metadata": {},
   "outputs": [
    {
     "data": {
      "text/html": [
       "<div>\n",
       "<style scoped>\n",
       "    .dataframe tbody tr th:only-of-type {\n",
       "        vertical-align: middle;\n",
       "    }\n",
       "\n",
       "    .dataframe tbody tr th {\n",
       "        vertical-align: top;\n",
       "    }\n",
       "\n",
       "    .dataframe thead th {\n",
       "        text-align: right;\n",
       "    }\n",
       "</style>\n",
       "<table border=\"1\" class=\"dataframe\">\n",
       "  <thead>\n",
       "    <tr style=\"text-align: right;\">\n",
       "      <th></th>\n",
       "      <th>BOROUGH</th>\n",
       "      <th>BLOCK</th>\n",
       "      <th>LOT</th>\n",
       "      <th>ZIP CODE</th>\n",
       "      <th>RESIDENTIAL UNITS</th>\n",
       "      <th>COMMERCIAL UNITS</th>\n",
       "      <th>TOTAL UNITS</th>\n",
       "      <th>YEAR BUILT</th>\n",
       "      <th>TAX CLASS AT TIME OF SALE</th>\n",
       "      <th>year</th>\n",
       "      <th>month</th>\n",
       "    </tr>\n",
       "  </thead>\n",
       "  <tbody>\n",
       "    <tr>\n",
       "      <th>count</th>\n",
       "      <td>84548.00</td>\n",
       "      <td>84548.00</td>\n",
       "      <td>84548.00</td>\n",
       "      <td>84548.00</td>\n",
       "      <td>84548.00</td>\n",
       "      <td>84548.00</td>\n",
       "      <td>84548.00</td>\n",
       "      <td>84548.00</td>\n",
       "      <td>84548.00</td>\n",
       "      <td>84548.00</td>\n",
       "      <td>84548.00</td>\n",
       "    </tr>\n",
       "    <tr>\n",
       "      <th>mean</th>\n",
       "      <td>3.00</td>\n",
       "      <td>4237.22</td>\n",
       "      <td>376.22</td>\n",
       "      <td>10731.99</td>\n",
       "      <td>2.03</td>\n",
       "      <td>0.19</td>\n",
       "      <td>2.25</td>\n",
       "      <td>1789.32</td>\n",
       "      <td>1.66</td>\n",
       "      <td>2016.65</td>\n",
       "      <td>6.56</td>\n",
       "    </tr>\n",
       "    <tr>\n",
       "      <th>std</th>\n",
       "      <td>1.29</td>\n",
       "      <td>3568.26</td>\n",
       "      <td>658.14</td>\n",
       "      <td>1290.88</td>\n",
       "      <td>16.72</td>\n",
       "      <td>8.71</td>\n",
       "      <td>18.97</td>\n",
       "      <td>537.34</td>\n",
       "      <td>0.82</td>\n",
       "      <td>0.48</td>\n",
       "      <td>3.47</td>\n",
       "    </tr>\n",
       "    <tr>\n",
       "      <th>min</th>\n",
       "      <td>1.00</td>\n",
       "      <td>1.00</td>\n",
       "      <td>1.00</td>\n",
       "      <td>0.00</td>\n",
       "      <td>0.00</td>\n",
       "      <td>0.00</td>\n",
       "      <td>0.00</td>\n",
       "      <td>0.00</td>\n",
       "      <td>1.00</td>\n",
       "      <td>2016.00</td>\n",
       "      <td>1.00</td>\n",
       "    </tr>\n",
       "    <tr>\n",
       "      <th>25%</th>\n",
       "      <td>2.00</td>\n",
       "      <td>1322.75</td>\n",
       "      <td>22.00</td>\n",
       "      <td>10305.00</td>\n",
       "      <td>0.00</td>\n",
       "      <td>0.00</td>\n",
       "      <td>1.00</td>\n",
       "      <td>1920.00</td>\n",
       "      <td>1.00</td>\n",
       "      <td>2016.00</td>\n",
       "      <td>4.00</td>\n",
       "    </tr>\n",
       "    <tr>\n",
       "      <th>50%</th>\n",
       "      <td>3.00</td>\n",
       "      <td>3311.00</td>\n",
       "      <td>50.00</td>\n",
       "      <td>11209.00</td>\n",
       "      <td>1.00</td>\n",
       "      <td>0.00</td>\n",
       "      <td>1.00</td>\n",
       "      <td>1940.00</td>\n",
       "      <td>2.00</td>\n",
       "      <td>2017.00</td>\n",
       "      <td>6.00</td>\n",
       "    </tr>\n",
       "    <tr>\n",
       "      <th>75%</th>\n",
       "      <td>4.00</td>\n",
       "      <td>6281.00</td>\n",
       "      <td>1001.00</td>\n",
       "      <td>11357.00</td>\n",
       "      <td>2.00</td>\n",
       "      <td>0.00</td>\n",
       "      <td>2.00</td>\n",
       "      <td>1965.00</td>\n",
       "      <td>2.00</td>\n",
       "      <td>2017.00</td>\n",
       "      <td>10.00</td>\n",
       "    </tr>\n",
       "    <tr>\n",
       "      <th>max</th>\n",
       "      <td>5.00</td>\n",
       "      <td>16322.00</td>\n",
       "      <td>9106.00</td>\n",
       "      <td>11694.00</td>\n",
       "      <td>1844.00</td>\n",
       "      <td>2261.00</td>\n",
       "      <td>2261.00</td>\n",
       "      <td>2017.00</td>\n",
       "      <td>4.00</td>\n",
       "      <td>2017.00</td>\n",
       "      <td>12.00</td>\n",
       "    </tr>\n",
       "  </tbody>\n",
       "</table>\n",
       "</div>"
      ],
      "text/plain": [
       "        BOROUGH     BLOCK       LOT  ZIP CODE  RESIDENTIAL UNITS  \\\n",
       "count  84548.00  84548.00  84548.00  84548.00           84548.00   \n",
       "mean       3.00   4237.22    376.22  10731.99               2.03   \n",
       "std        1.29   3568.26    658.14   1290.88              16.72   \n",
       "min        1.00      1.00      1.00      0.00               0.00   \n",
       "25%        2.00   1322.75     22.00  10305.00               0.00   \n",
       "50%        3.00   3311.00     50.00  11209.00               1.00   \n",
       "75%        4.00   6281.00   1001.00  11357.00               2.00   \n",
       "max        5.00  16322.00   9106.00  11694.00            1844.00   \n",
       "\n",
       "       COMMERCIAL UNITS  TOTAL UNITS  YEAR BUILT  TAX CLASS AT TIME OF SALE  \\\n",
       "count          84548.00     84548.00    84548.00                   84548.00   \n",
       "mean               0.19         2.25     1789.32                       1.66   \n",
       "std                8.71        18.97      537.34                       0.82   \n",
       "min                0.00         0.00        0.00                       1.00   \n",
       "25%                0.00         1.00     1920.00                       1.00   \n",
       "50%                0.00         1.00     1940.00                       2.00   \n",
       "75%                0.00         2.00     1965.00                       2.00   \n",
       "max             2261.00      2261.00     2017.00                       4.00   \n",
       "\n",
       "           year     month  \n",
       "count  84548.00  84548.00  \n",
       "mean    2016.65      6.56  \n",
       "std        0.48      3.47  \n",
       "min     2016.00      1.00  \n",
       "25%     2016.00      4.00  \n",
       "50%     2017.00      6.00  \n",
       "75%     2017.00     10.00  \n",
       "max     2017.00     12.00  "
      ]
     },
     "execution_count": 18,
     "metadata": {},
     "output_type": "execute_result"
    }
   ],
   "source": [
    "df.describe()"
   ]
  },
  {
   "cell_type": "markdown",
   "metadata": {},
   "source": [
    "### Measure of Central Tendency\n",
    "#### 1. Mean\n",
    "* What is the mean sale price of properties in the dataset?  \n",
    "* How can we tell the mean sale price throughout different boroughs?"
   ]
  },
  {
   "cell_type": "code",
   "execution_count": 25,
   "metadata": {},
   "outputs": [
    {
     "name": "stdout",
     "output_type": "stream",
     "text": [
      "Sale Price in Average: 1276456.4977638705\n"
     ]
    }
   ],
   "source": [
    "# find the mean of sale price\n",
    "print('Sale Price in Average:',df['SALE PRICE'].mean())"
   ]
  },
  {
   "cell_type": "markdown",
   "metadata": {},
   "source": [
    "Let's look into the mean sale price per each boroughs now"
   ]
  },
  {
   "cell_type": "code",
   "execution_count": 27,
   "metadata": {},
   "outputs": [
    {
     "name": "stdout",
     "output_type": "stream",
     "text": [
      "Mean sale price by borough:\n",
      "   BOROUGH  SALE PRICE\n",
      "0        1    3.34e+06\n",
      "2        3    8.34e+05\n",
      "3        4    7.40e+05\n",
      "1        2    5.90e+05\n",
      "4        5    5.43e+05\n"
     ]
    }
   ],
   "source": [
    "# group by borough and sale price\n",
    "mean_sale_price_by_b = df.groupby('BOROUGH')['SALE PRICE'].mean().reset_index()\n",
    "\n",
    "# sort by mean 'SALE PRICE' in descending order\n",
    "mean_sale_price_by_b = mean_sale_price_by_b.sort_values(by='SALE PRICE', ascending=False)\n",
    "\n",
    "# display\n",
    "print(\"Mean sale price by borough:\")\n",
    "print(mean_sale_price_by_b)"
   ]
  },
  {
   "cell_type": "markdown",
   "metadata": {},
   "source": [
    "From our finding, we can tell that Borough 1 has the lowest mean sale price, and Borough 3 has the highest mean sale price.   \n",
    "\n",
    "This may mean that a high mean price could mean that Borough 3 has higher-end features and amenities in the area, or it's a new developed area with an ever increasing sale price on its property."
   ]
  },
  {
   "cell_type": "markdown",
   "metadata": {},
   "source": [
    "To look into more details, let's look at which specific neighborhood has "
   ]
  },
  {
   "cell_type": "code",
   "execution_count": 28,
   "metadata": {},
   "outputs": [
    {
     "name": "stdout",
     "output_type": "stream",
     "text": [
      "Neighborhood with lowest mean price in Borough 1: MORNINGSIDE HEIGHTS\n",
      "Neighborhood with highest mean price in Borough 3: DOWNTOWN-METROTECH\n"
     ]
    }
   ],
   "source": [
    "# filter for borough 1 and borough 3\n",
    "df_b_1 = df[df['BOROUGH'] == 1]\n",
    "df_b_3 = df[df['BOROUGH'] == 3]\n",
    "\n",
    "# calculate mean price for each neighborhood in borough 1\n",
    "mean_b_1 = df_b_1.groupby('NEIGHBORHOOD')['SALE PRICE'].mean()\n",
    "\n",
    "# calculate mean price for each neighborhood in borough 3\n",
    "mean_b_3 = df_b_3.groupby('NEIGHBORHOOD')['SALE PRICE'].mean()\n",
    "\n",
    "# neighborhood with the lowest mean price in borough 1\n",
    "lowest_mean_price_borough_1 = mean_b_1.idxmin()\n",
    "\n",
    "# neighborhood with the highest mean price in borough 3\n",
    "highest_mean_price_borough_3 = mean_b_3.idxmax()\n",
    "\n",
    "print(\"Neighborhood with lowest mean price in Borough 1:\", lowest_mean_price_borough_1)\n",
    "print(\"Neighborhood with highest mean price in Borough 3:\", highest_mean_price_borough_3)"
   ]
  },
  {
   "cell_type": "markdown",
   "metadata": {},
   "source": [
    "* This tells us that the neighborhood Morningside Heights has relatively more affordable property prices.   \n",
    "* Investors can see potential for growth and development in this area, highlighting the affordability of this area  \n",
    "\n",
    "* On the other hand, the neighborhood Downtown - Metrotech has the highest property prices in New York.  \n",
    "* This may mean that the target audience for this area is for affluent clients or luxury investors. Investors or developers should cater their services accordingly for more premium properties."
   ]
  },
  {
   "cell_type": "markdown",
   "metadata": {},
   "source": [
    "#### 2. Median  \n",
    "\n",
    "* What is the median sale price of properties in the dataset?  "
   ]
  },
  {
   "cell_type": "code",
   "execution_count": null,
   "metadata": {},
   "outputs": [
    {
     "name": "stdout",
     "output_type": "stream",
     "text": [
      "Median of Sale Price: 530000.0\n"
     ]
    }
   ],
   "source": [
    "# find the median of sale price\n",
    "print('Median of Sale Price:',df['SALE PRICE'].median())"
   ]
  },
  {
   "cell_type": "markdown",
   "metadata": {},
   "source": [
    "The median sale price shows the price range of properties that are \"more representative\" of the market. By knowing the median also helps in setting competitive prices that appeal to a wider range of buyers."
   ]
  },
  {
   "cell_type": "markdown",
   "metadata": {},
   "source": [
    "Now let's compare the mean to the median"
   ]
  },
  {
   "cell_type": "markdown",
   "metadata": {},
   "source": [
    "The mean sale price is: 1276456.5 \n",
    "\n",
    "Meanwhile, the median sale price is: 530000\n",
    "\n",
    "If the median sale price is significantly lower or higher than the mean, it suggests the data may be skewed.   \n",
    "Let's check: "
   ]
  },
  {
   "cell_type": "code",
   "execution_count": null,
   "metadata": {},
   "outputs": [
    {
     "name": "stdout",
     "output_type": "stream",
     "text": [
      "Skewness: 124.09425128278802\n"
     ]
    }
   ],
   "source": [
    "# check the skewness\n",
    "print(f\"Skewness: {df['SALE PRICE'].skew()}\")"
   ]
  },
  {
   "cell_type": "code",
   "execution_count": null,
   "metadata": {},
   "outputs": [
    {
     "data": {
      "image/png": "[encoded data removed]",
      "text/plain": [
       "<Figure size 800x600 with 1 Axes>"
      ]
     },
     "metadata": {},
     "output_type": "display_data"
    }
   ],
   "source": [
    "# replace with 'SALE PRICE' column\n",
    "data = df['SALE PRICE'].dropna()  # drop missing values\n",
    "\n",
    "# plot histogram\n",
    "plt.figure(figsize=(8, 6))\n",
    "plt.hist(data, bins=50, edgecolor='black')\n",
    "plt.xlabel('SALE PRICE')\n",
    "plt.ylabel('Frequency')\n",
    "plt.title('Histogram of SALE PRICE')\n",
    "plt.grid(True)\n",
    "plt.show()"
   ]
  },
  {
   "cell_type": "markdown",
   "metadata": {},
   "source": [
    "This shows that sale price is right-skew (positively skewed) which suggests a huge imbalance in the data distribution.  \n",
    "\n",
    "The majority of sale prices are likely clustered at lower values.  \n",
    "It indicates that there may be some properties with   exceptionally high prices, which are driving the mean sale price higher than the median.    \n",
    "\n",
    "\n",
    "Why is it important to consider the skewness of sale price? \n",
    "\n",
    "* So that real estate developers may need to focus on the lower end of the market, where most buyers are.  \n",
    "\n",
    "* Investors may be interested in understanding the factors behind the high-end luxury market.  \n",
    "\n",
    "* Buyers should be aware that the average sale price may not represent the typical property they are looking for."
   ]
  },
  {
   "cell_type": "markdown",
   "metadata": {},
   "source": [
    "#### 3. Mode  \n",
    "\n",
    "* Which building class category occurs most frequently in the dataset?\n"
   ]
  },
  {
   "cell_type": "code",
   "execution_count": null,
   "metadata": {},
   "outputs": [
    {
     "name": "stdout",
     "output_type": "stream",
     "text": [
      "Mode of Building Class Category: 01 ONE FAMILY DWELLINGS                     steps\n"
     ]
    }
   ],
   "source": [
    "# find mode\n",
    "print('Mode of Building Class Category:',df['BUILDING CLASS CATEGORY'].mode().values[0],'steps')"
   ]
  },
  {
   "cell_type": "markdown",
   "metadata": {},
   "source": [
    "This tells us that One Family Dwellings is the most common building types in the market. It also suggests that there's a high demand for single-family homes.   \n",
    "By knowing this, it can guide investment decisions in that category and predict future demand and pricing strategies"
   ]
  },
  {
   "cell_type": "markdown",
   "metadata": {},
   "source": [
    "### Measure of Spread\n",
    "\n",
    "#### 4. Range  \n",
    "\n",
    "What is the difference between the highest and lowest values of 'SALE PRICE'?"
   ]
  },
  {
   "cell_type": "code",
   "execution_count": null,
   "metadata": {},
   "outputs": [
    {
     "name": "stdout",
     "output_type": "stream",
     "text": [
      "Range of sale price: 2210000000.0\n"
     ]
    }
   ],
   "source": [
    "# find range\n",
    "range = df['SALE PRICE'].max() - df['SALE PRICE'].min()\n",
    "print('Range of sale price:',range)"
   ]
  },
  {
   "cell_type": "markdown",
   "metadata": {},
   "source": [
    "Knowing the range of the sale price can help real estate agents and sellers to set realistic prices around the range. It also helps businesses to know their competitiveness compared to their competitors, set pricing to be around the range of 2210000000\n",
    "\n",
    "Meanwhile, buyers and sellers can use the range as a negotiation tool. If a property is priced near the upper end of the range, buyers may negotiate for a lower price.\n"
   ]
  },
  {
   "cell_type": "markdown",
   "metadata": {},
   "source": [
    "#### 5. Variance  \n",
    "\n",
    "* What is the variance of 'LAND SQUARE FEET'? "
   ]
  },
  {
   "cell_type": "code",
   "execution_count": 29,
   "metadata": {},
   "outputs": [
    {
     "name": "stdout",
     "output_type": "stream",
     "text": [
      "Variance of land square feet data: 1136015085.9747322\n"
     ]
    }
   ],
   "source": [
    "# find variance \n",
    "variance = df['LAND SQUARE FEET'].var()\n",
    "print('Variance of land square feet data:',variance)"
   ]
  },
  {
   "cell_type": "markdown",
   "metadata": {},
   "source": [
    "Knowing the variance of land square feet in this dataset helps to understand size differences of each properties, in this case it's a big one.  \n",
    "\n",
    "Businesses can segment the market based on this. In this case, properties with large land sizes might target luxury buyers, while smaller sizes cater to budget-conscious buyers."
   ]
  },
  {
   "cell_type": "markdown",
   "metadata": {},
   "source": [
    "#### 5. Standard Deviation:  \n",
    "\n",
    "* How spread out are the 'GROSS SQUARE FEET' values from the mean?"
   ]
  },
  {
   "cell_type": "code",
   "execution_count": 30,
   "metadata": {},
   "outputs": [
    {
     "name": "stdout",
     "output_type": "stream",
     "text": [
      "Standard Deviation of gross square feet data: 24490.47893755528\n"
     ]
    }
   ],
   "source": [
    "# find standard deviation\n",
    "std = df['GROSS SQUARE FEET'].std()\n",
    "print('Standard Deviation of gross square feet data:',std)"
   ]
  },
  {
   "cell_type": "markdown",
   "metadata": {},
   "source": [
    "The standard deviation of 'GROSS SQUARE FEET' provides how much the sizes of properties vary within the dataset which is 24490.5 (rounded).\n",
    "\n",
    "This suggest that there's a wider range of property sizes.\n",
    "\n",
    "This also helps real estate agents to set prices, leading to a wider price range for similar properties."
   ]
  },
  {
   "cell_type": "markdown",
   "metadata": {},
   "source": [
    "### Probability Distribution  \n",
    "\n",
    "#### 7. Uniform Distribution  \n",
    "\n",
    "* Is the 'SALE PRICE' data uniformly distributed across the range?"
   ]
  },
  {
   "cell_type": "code",
   "execution_count": null,
   "metadata": {},
   "outputs": [],
   "source": [
    "# random numbers from uniform dist.\n",
    "n = 10000\n",
    "start = 10\n",
    "width = 20\n",
    "data_uniform = uniform.rvs(size=n, loc=start, scale=width)"
   ]
  },
  {
   "cell_type": "code",
   "execution_count": null,
   "metadata": {},
   "outputs": [
    {
     "data": {
      "image/png": "[encoded data removed]",
      "text/plain": [
       "<Figure size 500x500 with 1 Axes>"
      ]
     },
     "metadata": {},
     "output_type": "display_data"
    },
    {
     "name": "stderr",
     "output_type": "stream",
     "text": [
      "/var/folders/c3/_g425yfx56z0vhzwg8_2sqj40000gn/T/ipykernel_709/1144486215.py:28: FutureWarning: The default of observed=False is deprecated and will be changed to True in a future version of pandas. Pass observed=False to retain current behavior or observed=True to adopt the future default and silence this warning.\n",
      "  interval_counts = df_uniform.groupby(pd.cut(df_uniform['SALE PRICE'], bins=np.arange(min_price, max_price, interval_width))).size()\n"
     ]
    },
    {
     "name": "stdout",
     "output_type": "stream",
     "text": [
      "Frequency of observations in each interval:\n",
      "SALE PRICE\n",
      "(101.037, 290.897]      100\n",
      "(290.897, 480.757]       99\n",
      "(480.757, 670.617]      108\n",
      "(670.617, 860.477]      107\n",
      "(860.477, 1050.337]     102\n",
      "(1050.337, 1240.197]     93\n",
      "(1240.197, 1430.057]     99\n",
      "(1430.057, 1619.917]     88\n",
      "(1619.917, 1809.776]     95\n",
      "dtype: int64\n"
     ]
    },
    {
     "data": {
      "image/png": "[encoded data removed]",
      "text/plain": [
       "<Figure size 500x500 with 1 Axes>"
      ]
     },
     "metadata": {},
     "output_type": "display_data"
    },
    {
     "name": "stdout",
     "output_type": "stream",
     "text": [
      "Kolmogorov-Smirnov test p-value: 0.005894826469583204\n"
     ]
    }
   ],
   "source": [
    "# generate synthetic dataset following a uniform distribution\n",
    "np.random.seed(0)  # Set seed for reproducibility\n",
    "num_samples = 1000  # Number of samples\n",
    "min_value = 100  # Minimum value of the uniform distribution\n",
    "max_value = 2000  # Maximum value of the uniform distribution\n",
    "data_uniform = uniform.rvs(loc=min_value, scale=max_value-min_value, size=num_samples)\n",
    "\n",
    "# create df\n",
    "df_uniform = pd.DataFrame({'SALE PRICE': data_uniform})\n",
    "\n",
    "# plot histogram for sale price\n",
    "plt.hist(df_uniform['SALE PRICE'], bins=30, color='blue', alpha=0.7)\n",
    "plt.title('Histogram of SALE PRICE (Uniform Distribution)')\n",
    "plt.xlabel('Price')\n",
    "plt.ylabel('Frequency')\n",
    "plt.show()\n",
    "\n",
    "# calculate range of sale price\n",
    "min_price = df_uniform['SALE PRICE'].min()\n",
    "max_price = df_uniform['SALE PRICE'].max()\n",
    "data_range = max_price - min_price\n",
    "\n",
    "# divide range into equal intervals\n",
    "num_intervals = 10  # Choose number of intervals\n",
    "interval_width = data_range / num_intervals\n",
    "\n",
    "# check frequency of observations in each interval\n",
    "interval_counts = df_uniform.groupby(pd.cut(df_uniform['SALE PRICE'], bins=np.arange(min_price, max_price, interval_width))).size()\n",
    "\n",
    "# print interval counts\n",
    "print(\"Frequency of observations in each interval:\")\n",
    "print(interval_counts)\n",
    "\n",
    "# plot bar chart of interval counts\n",
    "plt.bar(interval_counts.index.astype(str), interval_counts.values, color='blue', alpha=0.7)\n",
    "plt.title('Frequency of Observations in Each Interval (Uniform Distribution)')\n",
    "plt.xlabel('Interval')\n",
    "plt.ylabel('Frequency')\n",
    "plt.xticks(rotation=45)\n",
    "plt.show()\n",
    "\n",
    "# perform statistical tests (e.g., Kolmogorov-Smirnov test or Chi-square test) to formally test for uniformity\n",
    "# example:\n",
    "from scipy.stats import kstest\n",
    "\n",
    "# perform Kolmogorov-Smirnov test\n",
    "ks_statistic, p_value = kstest(df_uniform['SALE PRICE'], 'uniform', args=(min_price, max_price))\n",
    "print(\"Kolmogorov-Smirnov test p-value:\", p_value)"
   ]
  },
  {
   "cell_type": "markdown",
   "metadata": {},
   "source": [
    "From the result, we can see that the intervals of the same distribution is not that similar. It mostly varies around 30 and 40, but the lowest case is in 20. This shows that the sale price is not uniformly distributed. \n",
    "\n",
    "Similarly, from the Kolmogorov-Smirnov test performed, it tells us that the p-value is way below 0.05, indicating that the sale price is not uniformally distributed. \n",
    "\n",
    "This means that the market of properties are not balanced and may be priced unevenly across the range, making the market more unpredictable. Real estate agents should take this problem into account and set more fair and equal prices across ranges. "
   ]
  },
  {
   "cell_type": "markdown",
   "metadata": {},
   "source": [
    "#### 8. Normal Distribution \n",
    "\n",
    "* Does the p-value indicate that the 'SALE PRICE' data is normally distributed?"
   ]
  },
  {
   "cell_type": "code",
   "execution_count": null,
   "metadata": {},
   "outputs": [
    {
     "data": {
      "image/png": "[encoded data removed]",
      "text/plain": [
       "<Figure size 500x500 with 1 Axes>"
      ]
     },
     "metadata": {},
     "output_type": "display_data"
    },
    {
     "name": "stdout",
     "output_type": "stream",
     "text": [
      "Mean of SALE PRICE: 990.948658501961\n",
      "Standard deviation of SALE PRICE: 197.50540913890265\n",
      "Shapiro-Wilk test for SALE PRICE: ShapiroResult(statistic=0.9985560774803162, pvalue=0.5916484594345093)\n"
     ]
    }
   ],
   "source": [
    "# generate synthetic dataset following a normal distribution\n",
    "np.random.seed(0)  # Set seed for reproducibility\n",
    "num_samples = 1000  # Number of samples\n",
    "mean_price = 1000  # Mean of the normal distribution\n",
    "std_dev_price = 200  # Standard deviation of the normal distribution\n",
    "data_normal = norm.rvs(loc=mean_price, scale=std_dev_price, size=num_samples)\n",
    "\n",
    "# create DataFrame\n",
    "df_normal = pd.DataFrame({'SALE PRICE': data_normal})\n",
    "\n",
    "# plot histogram for sale price\n",
    "plt.hist(df_normal['SALE PRICE'], bins=30, color='blue', alpha=0.7)\n",
    "plt.title('Histogram of SALE PRICE (Normal Distribution)')\n",
    "plt.xlabel('Price')\n",
    "plt.ylabel('Frequency')\n",
    "plt.show()\n",
    "\n",
    "# calculate mean and standard deviation of sale price\n",
    "mean_price = df_normal['SALE PRICE'].mean()\n",
    "std_dev_price = df_normal['SALE PRICE'].std()\n",
    "print(\"Mean of SALE PRICE:\", mean_price)\n",
    "print(\"Standard deviation of SALE PRICE:\", std_dev_price)\n",
    "\n",
    "# perform normality test (e.g., Shapiro-Wilk test)\n",
    "from scipy.stats import shapiro\n",
    "shapiro_test = shapiro(df_normal['SALE PRICE'])\n",
    "print(\"Shapiro-Wilk test for SALE PRICE:\", shapiro_test)"
   ]
  },
  {
   "cell_type": "markdown",
   "metadata": {},
   "source": [
    "From the histogram above, the curve looks bell-shaped, suggesting that the data follows a normal distribution, because the mean is symmetrically distributed.\n",
    "\n",
    "To be more certain, the Shapiro-Wilk test is also done and the p-value is above 0.05 (p-value of sale price=0.5).  \n",
    "This tells us that the data is likely normally distributed.\n",
    "\n",
    "A normal distribution of sale price suggests that prices are evenly distributed around the mean. This mean that the sale price can be used as a reference for setting listing prices."
   ]
  },
  {
   "cell_type": "markdown",
   "metadata": {},
   "source": [
    "Let's do the normal distribution with PDF (Probability Density Function) to see the bell-shaped curve more easily."
   ]
  },
  {
   "cell_type": "code",
   "execution_count": null,
   "metadata": {},
   "outputs": [
    {
     "data": {
      "image/png": "[encoded data removed]",
      "text/plain": [
       "<Figure size 500x500 with 1 Axes>"
      ]
     },
     "metadata": {},
     "output_type": "display_data"
    }
   ],
   "source": [
    "# generate synthetic dataset following a normal distribution\n",
    "np.random.seed(0)  # Set seed for reproducibility\n",
    "num_samples = 1000  # Number of samples\n",
    "mean_price = 1000  # Mean of the normal distribution\n",
    "std_dev_price = 200  # Standard deviation of the normal distribution\n",
    "data_normal = norm.rvs(loc=mean_price, scale=std_dev_price, size=num_samples)\n",
    "\n",
    "# create DataFrame\n",
    "df_normal = pd.DataFrame({'SALE PRICE': data_normal})\n",
    "\n",
    "# plot histogram for sale price\n",
    "plt.hist(df_normal['SALE PRICE'], bins=30, color='blue', alpha=0.7, density=True, label='Histogram')\n",
    "\n",
    "# plot PDF of the normal distribution\n",
    "x_values = np.linspace(df_normal['SALE PRICE'].min(), df_normal['SALE PRICE'].max(), 100)\n",
    "pdf_values = norm.pdf(x_values, loc=mean_price, scale=std_dev_price)\n",
    "plt.plot(x_values, pdf_values, color='red', linestyle='-', linewidth=2, label='PDF')\n",
    "\n",
    "plt.title('Histogram and PDF of SALE PRICE (Normal Distribution)')\n",
    "plt.xlabel('Price')\n",
    "plt.ylabel('Probability Density')\n",
    "plt.legend()\n",
    "plt.show()"
   ]
  },
  {
   "cell_type": "markdown",
   "metadata": {},
   "source": [
    "This confirms that sale price is normally distributed.   \n",
    "The PDF can be used to forecast future price trends and take a  closer look at the outliers."
   ]
  },
  {
   "cell_type": "markdown",
   "metadata": {},
   "source": [
    "#### 9. Confidence Intervals\n",
    "\n",
    "* What is the confidence interval of the sale price?"
   ]
  },
  {
   "cell_type": "code",
   "execution_count": null,
   "metadata": {},
   "outputs": [
    {
     "name": "stdout",
     "output_type": "stream",
     "text": [
      "Confidence interval for the mean SALE PRICE:\n",
      "Mean: 1276456.4977638705\n",
      "Margin of Error: 84499.06937900101\n",
      "Confidence Interval: (1191957.4283848696, 1360955.5671428714)\n"
     ]
    }
   ],
   "source": [
    "# replace with sale price column\n",
    "data = df['SALE PRICE'].dropna()  # drop missing values\n",
    "\n",
    "# confidence level (95%)\n",
    "confidence_level = 0.95\n",
    "\n",
    "# calculate mean and standard error\n",
    "mean = np.mean(data)\n",
    "std_error = stats.sem(data)\n",
    "\n",
    "# calculate margin of error\n",
    "margin_of_error = stats.t.ppf((1 + confidence_level) / 2, len(data) - 1) * std_error\n",
    "\n",
    "# calculate confidence interval\n",
    "confidence_interval = (mean - margin_of_error, mean + margin_of_error)\n",
    "\n",
    "print(\"Confidence interval for the mean SALE PRICE:\")\n",
    "print(\"Mean:\", mean)\n",
    "print(\"Margin of Error:\", margin_of_error)\n",
    "print(\"Confidence Interval:\", confidence_interval)"
   ]
  },
  {
   "cell_type": "markdown",
   "metadata": {},
   "source": [
    "From the result, the confidence interval is nearing the mean sale price but not narrow enough (1191957.43 - 1360955.57) with the confidence level of 95%. \n",
    "\n",
    "But since the range is considerably wider, it may mean that there is more uncertainty of sale price. Sale price might seen as varying.  \n",
    "\n",
    "Decision makers has to be more cautious in setting pricing strategies in this volatile market"
   ]
  },
  {
   "cell_type": "markdown",
   "metadata": {},
   "source": [
    "#### 10. Hypothesis Testing\n",
    "\n",
    "* H0: the mean sale price is equal to $500,000  \n",
    "  H1: the mean sale price is not equal to $500,000\n",
    "\n",
    "Now calculate the p-value with an alpha 0.05 (5% significance level)"
   ]
  },
  {
   "cell_type": "code",
   "execution_count": null,
   "metadata": {},
   "outputs": [
    {
     "name": "stdout",
     "output_type": "stream",
     "text": [
      "Reject the null hypothesis. Mean SALE PRICE is significantly different from $500,000.\n",
      "t-statistic: 18.01029409988187\n",
      "p-value: 2.3584029738773677e-72\n"
     ]
    }
   ],
   "source": [
    "# replace with sale price\n",
    "data = df['SALE PRICE'].dropna()  # Drop missing values\n",
    "\n",
    "# hypothetical mean for comparison\n",
    "hypothetical_mean = 500000\n",
    "\n",
    "# perform one-sample t-test\n",
    "t_stat, p_value = stats.ttest_1samp(data, hypothetical_mean)\n",
    "\n",
    "# set significance level\n",
    "alpha = 0.05\n",
    "\n",
    "# interpret the results\n",
    "if p_value < alpha:\n",
    "    print(\"Reject the null hypothesis. Mean SALE PRICE is significantly different from $500,000.\")\n",
    "else:\n",
    "    print(\"Fail to reject the null hypothesis. Mean SALE PRICE is not significantly different from $500,000.\")\n",
    "\n",
    "# additional output\n",
    "print(\"t-statistic:\", t_stat)\n",
    "print(\"p-value:\", p_value)"
   ]
  },
  {
   "cell_type": "markdown",
   "metadata": {},
   "source": [
    "Because the p-value is less than the alpha, we reject the H0, that we don't have enough evidence to say it's significantly different from $500,000. The t-statistic also showed that there's a greater difference  \n",
    "\n",
    "This means that businesses might adjust prices based on the actual mean sale price in the dataset."
   ]
  },
  {
   "cell_type": "markdown",
   "metadata": {},
   "source": [
    "#### 11. Pearson's Correlation  \n",
    "* Is there a significant correlation between 'LAND SQUARE FEET' and 'SALE PRICE' in the NYC Property Sales dataset?  \n",
    "\n",
    "H0: There is no correlation between 'LAND SQUARE FEET' and 'SALE PRICE'.  \n",
    "H1: There is a correlation between 'LAND SQUARE FEET' and 'SALE PRICE'."
   ]
  },
  {
   "cell_type": "code",
   "execution_count": null,
   "metadata": {},
   "outputs": [
    {
     "name": "stdout",
     "output_type": "stream",
     "text": [
      "Reject the null hypothesis. There is a significant correlation between 'LAND SQUARE FEET' and 'SALE PRICE'.\n",
      "Pearson's correlation coefficient: 0.06018342604606782\n",
      "p-value: 2.1208188917503075e-40\n"
     ]
    }
   ],
   "source": [
    "# filter out rows with missing values \n",
    "data_subset = df[['LAND SQUARE FEET', 'SALE PRICE']].dropna()\n",
    "\n",
    "# extract data from filtered\n",
    "data_land_square_feet = data_subset['LAND SQUARE FEET']\n",
    "data_sale_price = data_subset['SALE PRICE']\n",
    "\n",
    "# perform Pearson's correlation test\n",
    "corr_coef, p_value = stats.pearsonr(data_land_square_feet, data_sale_price)\n",
    "\n",
    "# set significance level\n",
    "alpha = 0.05\n",
    "\n",
    "# interpret the results\n",
    "if p_value < alpha:\n",
    "    print(\"Reject the null hypothesis. There is a significant correlation between 'LAND SQUARE FEET' and 'SALE PRICE'.\")\n",
    "else:\n",
    "    print(\"Fail to reject the null hypothesis. There is no significant correlation between 'LAND SQUARE FEET' and 'SALE PRICE'.\")\n",
    "\n",
    "# additional output\n",
    "print(\"Pearson's correlation coefficient:\", corr_coef)\n",
    "print(\"p-value:\", p_value)"
   ]
  },
  {
   "cell_type": "markdown",
   "metadata": {},
   "source": [
    "From the result, we reject the null hypothesis because the p-value is smaller than the alpha.  \n",
    "So this means that there is a significant correlation between land square feet and sale price. \n",
    "\n",
    "By knowing this correlation, this helps to guide decisions on the size and pricing of properties."
   ]
  }
 ],
 "metadata": {
  "kernelspec": {
   "display_name": "base",
   "language": "python",
   "name": "python3"
  },
  "language_info": {
   "codemirror_mode": {
    "name": "ipython",
    "version": 3
   },
   "file_extension": ".py",
   "mimetype": "text/x-python",
   "name": "python",
   "nbconvert_exporter": "python",
   "pygments_lexer": "ipython3",
   "version": "3.11.7"
  }
 },
 "nbformat": 4,
 "nbformat_minor": 2
}
